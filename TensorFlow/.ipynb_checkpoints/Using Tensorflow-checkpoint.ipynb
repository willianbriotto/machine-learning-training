{
 "cells": [
  {
   "cell_type": "code",
   "execution_count": 2,
   "metadata": {},
   "outputs": [],
   "source": [
    "import numpy as np\n",
    "import pandas as pd\n",
    "import matplotlib.pyplot as plt\n",
    "import tensorflow as tf"
   ]
  },
  {
   "cell_type": "code",
   "execution_count": 6,
   "metadata": {},
   "outputs": [
    {
     "name": "stdout",
     "output_type": "stream",
     "text": [
      "1000\n",
      "[ 1.56393797]\n",
      "[-6.89581852]\n"
     ]
    }
   ],
   "source": [
    "#Data Generation\n",
    "observations = 1000\n",
    "\n",
    "xs = np.random.uniform(low=-10, high=10, size=(observations,1))\n",
    "zs = np.random.uniform(-10, 10, (observations,1))\n",
    "\n",
    "print(len(xs))\n",
    "\n",
    "print(xs[0])\n",
    "print(zs[0])"
   ]
  },
  {
   "cell_type": "code",
   "execution_count": 7,
   "metadata": {},
   "outputs": [
    {
     "name": "stdout",
     "output_type": "stream",
     "text": [
      "[ 1.56393797 -6.89581852]\n"
     ]
    }
   ],
   "source": [
    "generated_inputs = np.column_stack((xs,zs))\n",
    "print(generated_inputs[0])"
   ]
  },
  {
   "cell_type": "code",
   "execution_count": 22,
   "metadata": {},
   "outputs": [
    {
     "name": "stdout",
     "output_type": "stream",
     "text": [
      "1000\n"
     ]
    }
   ],
   "source": [
    "# We add a random small noise to the function i.e. f(x,z) = 2x - 3z + 5 + <small noise>\n",
    "noise = np.random.uniform(-1, 1, (observations,1))\n",
    "print(len(noise))"
   ]
  },
  {
   "cell_type": "code",
   "execution_count": 23,
   "metadata": {
    "collapsed": true
   },
   "outputs": [],
   "source": [
    "# Produce the targets according to our f(x,z) = 2x - 3z + 5 + noise definition.\n",
    "# In this way, we are basically saying: the weights should be 2 and -3, while the bias is 5.\n",
    "generated_targets = 2*xs - 3*zs + 5 + noise\n",
    "np.savez('TF_intro', inputs=generated_inputs, targets=generated_targets)"
   ]
  },
  {
   "cell_type": "code",
   "execution_count": 24,
   "metadata": {
    "collapsed": true
   },
   "outputs": [],
   "source": [
    "input_size = 2\n",
    "output_size = 1"
   ]
  },
  {
   "cell_type": "code",
   "execution_count": 25,
   "metadata": {},
   "outputs": [
    {
     "name": "stdout",
     "output_type": "stream",
     "text": [
      "Tensor(\"Placeholder_8:0\", shape=(?, 2), dtype=float32)\n",
      "Tensor(\"Placeholder_9:0\", shape=(?, 1), dtype=float32)\n"
     ]
    }
   ],
   "source": [
    "inputs = tf.placeholder(tf.float32, [None, input_size])\n",
    "targets = tf.placeholder(tf.float32, [None, output_size])\n",
    "\n",
    "print(inputs)\n",
    "print(targets)"
   ]
  },
  {
   "cell_type": "code",
   "execution_count": 26,
   "metadata": {},
   "outputs": [
    {
     "name": "stdout",
     "output_type": "stream",
     "text": [
      "<tf.Variable 'Variable_2:0' shape=(2, 1) dtype=float32_ref>\n",
      "<tf.Variable 'Variable_3:0' shape=(1,) dtype=float32_ref>\n"
     ]
    }
   ],
   "source": [
    "weights = tf.Variable(tf.random_uniform([input_size, output_size], minval=-0.1, maxval=0.1))\n",
    "biases = tf.Variable(tf.random_uniform([output_size], minval=-0.1, maxval=0.1))\n",
    "\n",
    "print(weights)\n",
    "print(biases)"
   ]
  },
  {
   "cell_type": "code",
   "execution_count": 27,
   "metadata": {},
   "outputs": [
    {
     "name": "stdout",
     "output_type": "stream",
     "text": [
      "Tensor(\"add_1:0\", shape=(?, 1), dtype=float32)\n"
     ]
    }
   ],
   "source": [
    "outputs = tf.matmul(inputs, weights) + biases\n",
    "print(outputs)"
   ]
  },
  {
   "cell_type": "code",
   "execution_count": 28,
   "metadata": {},
   "outputs": [
    {
     "name": "stdout",
     "output_type": "stream",
     "text": [
      "Tensor(\"truediv_1:0\", shape=(), dtype=float32)\n"
     ]
    }
   ],
   "source": [
    "mean_loss = tf.losses.mean_squared_error(labels=targets, predictions=outputs) / 2.\n",
    "print(mean_loss)"
   ]
  },
  {
   "cell_type": "code",
   "execution_count": 29,
   "metadata": {},
   "outputs": [
    {
     "name": "stdout",
     "output_type": "stream",
     "text": [
      "name: \"GradientDescent_1\"\n",
      "op: \"NoOp\"\n",
      "input: \"^GradientDescent_1/update_Variable_2/ApplyGradientDescent\"\n",
      "input: \"^GradientDescent_1/update_Variable_3/ApplyGradientDescent\"\n",
      "\n"
     ]
    }
   ],
   "source": [
    "optimize = tf.train.GradientDescentOptimizer(learning_rate=0.05).minimize(mean_loss)\n",
    "print(optimize)"
   ]
  },
  {
   "cell_type": "code",
   "execution_count": 30,
   "metadata": {
    "collapsed": true
   },
   "outputs": [],
   "source": [
    "sess = tf.InteractiveSession()\n",
    "initializer = tf.global_variables_initializer()\n",
    "sess.run(initializer)"
   ]
  },
  {
   "cell_type": "code",
   "execution_count": 31,
   "metadata": {
    "collapsed": true
   },
   "outputs": [],
   "source": [
    "training_data = np.load('TF_intro.npz')"
   ]
  },
  {
   "cell_type": "code",
   "execution_count": 32,
   "metadata": {},
   "outputs": [
    {
     "name": "stdout",
     "output_type": "stream",
     "text": [
      "227.705\n",
      "87.6977\n",
      "37.6497\n",
      "19.2415\n",
      "12.0868\n",
      "9.00325\n",
      "7.43611\n",
      "6.46488\n",
      "5.75184\n",
      "5.16944\n",
      "4.66698\n",
      "4.22238\n",
      "3.82459\n",
      "3.46694\n",
      "3.1447\n",
      "2.85409\n",
      "2.59189\n",
      "2.35529\n",
      "2.14177\n",
      "1.94907\n",
      "1.77515\n",
      "1.61819\n",
      "1.47653\n",
      "1.34868\n",
      "1.2333\n",
      "1.12916\n",
      "1.03517\n",
      "0.950342\n",
      "0.873784\n",
      "0.804689\n",
      "0.742329\n",
      "0.686049\n",
      "0.635254\n",
      "0.589411\n",
      "0.548037\n",
      "0.510695\n",
      "0.476994\n",
      "0.446578\n",
      "0.419127\n",
      "0.394352\n",
      "0.371991\n",
      "0.35181\n",
      "0.333597\n",
      "0.317159\n",
      "0.302323\n",
      "0.288934\n",
      "0.27685\n",
      "0.265943\n",
      "0.2561\n",
      "0.247217\n",
      "0.239199\n",
      "0.231963\n",
      "0.225432\n",
      "0.219538\n",
      "0.214218\n",
      "0.209417\n",
      "0.205084\n",
      "0.201174\n",
      "0.197644\n",
      "0.194459\n",
      "0.191584\n",
      "0.188989\n",
      "0.186647\n",
      "0.184534\n",
      "0.182627\n",
      "0.180905\n",
      "0.179351\n",
      "0.177949\n",
      "0.176684\n",
      "0.175541\n",
      "0.17451\n",
      "0.17358\n",
      "0.172741\n",
      "0.171983\n",
      "0.171299\n",
      "0.170681\n",
      "0.170124\n",
      "0.169621\n",
      "0.169168\n",
      "0.168758\n",
      "0.168389\n",
      "0.168055\n",
      "0.167754\n",
      "0.167482\n",
      "0.167237\n",
      "0.167016\n",
      "0.166816\n",
      "0.166635\n",
      "0.166473\n",
      "0.166326\n",
      "0.166193\n",
      "0.166074\n",
      "0.165966\n",
      "0.165868\n",
      "0.16578\n",
      "0.165701\n",
      "0.165629\n",
      "0.165565\n",
      "0.165506\n",
      "0.165454\n"
     ]
    }
   ],
   "source": [
    "for i in range(100):\n",
    "    _, curr_loss = sess.run([optimize, mean_loss], \n",
    "        feed_dict={inputs: training_data['inputs'], targets: training_data['targets']})\n",
    "    \n",
    "    print(curr_loss)"
   ]
  },
  {
   "cell_type": "code",
   "execution_count": 33,
   "metadata": {
    "collapsed": true
   },
   "outputs": [],
   "source": [
    "out = sess.run([outputs], \n",
    "               feed_dict={inputs: training_data['inputs']})"
   ]
  },
  {
   "cell_type": "code",
   "execution_count": 34,
   "metadata": {},
   "outputs": [
    {
     "data": {
      "image/png": "[encoded data removed]",
      "text/plain": [
       "<matplotlib.figure.Figure at 0x1d304cff400>"
      ]
     },
     "metadata": {},
     "output_type": "display_data"
    }
   ],
   "source": [
    "plt.plot(np.squeeze(out), np.squeeze(training_data['targets']))\n",
    "plt.xlabel('outputs')\n",
    "plt.ylabel('targets')\n",
    "plt.show()"
   ]
  },
  {
   "cell_type": "code",
   "execution_count": null,
   "metadata": {
    "collapsed": true
   },
   "outputs": [],
   "source": []
  }
 ],
 "metadata": {
  "kernelspec": {
   "display_name": "Python 3",
   "language": "python",
   "name": "python3"
  },
  "language_info": {
   "codemirror_mode": {
    "name": "ipython",
    "version": 3
   },
   "file_extension": ".py",
   "mimetype": "text/x-python",
   "name": "python",
   "nbconvert_exporter": "python",
   "pygments_lexer": "ipython3",
   "version": "3.6.2"
  }
 },
 "nbformat": 4,
 "nbformat_minor": 2
}
