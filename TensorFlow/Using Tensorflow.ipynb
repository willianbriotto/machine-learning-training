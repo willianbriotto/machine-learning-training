{
 "cells": [
  {
   "cell_type": "code",
   "execution_count": 18,
   "metadata": {},
   "outputs": [],
   "source": [
    "import numpy as np\n",
    "import pandas as pd\n",
    "import matplotlib.pyplot as plt\n",
    "import tensorflow as tf"
   ]
  },
  {
   "cell_type": "code",
   "execution_count": 19,
   "metadata": {},
   "outputs": [
    {
     "name": "stdout",
     "output_type": "stream",
     "text": [
      "1000\n",
      "[-9.24882742]\n",
      "[-3.82641156]\n"
     ]
    }
   ],
   "source": [
    "#Data Generation\n",
    "observations = 1000\n",
    "\n",
    "xs = np.random.uniform(low=-10, high=10, size=(observations,1))\n",
    "zs = np.random.uniform(-10, 10, (observations,1))\n",
    "\n",
    "print(len(xs))\n",
    "\n",
    "print(xs[0])\n",
    "print(zs[0])"
   ]
  },
  {
   "cell_type": "code",
   "execution_count": 20,
   "metadata": {},
   "outputs": [
    {
     "name": "stdout",
     "output_type": "stream",
     "text": [
      "[-9.24882742 -3.82641156]\n"
     ]
    }
   ],
   "source": [
    "generated_inputs = np.column_stack((xs,zs))\n",
    "print(generated_inputs[0])"
   ]
  },
  {
   "cell_type": "code",
   "execution_count": 21,
   "metadata": {},
   "outputs": [
    {
     "name": "stdout",
     "output_type": "stream",
     "text": [
      "1000\n"
     ]
    }
   ],
   "source": [
    "# We add a random small noise to the function i.e. f(x,z) = 2x - 3z + 5 + <small noise>\n",
    "noise = np.random.uniform(-1, 1, (observations,1))\n",
    "print(len(noise))"
   ]
  },
  {
   "cell_type": "code",
   "execution_count": 22,
   "metadata": {
    "collapsed": true
   },
   "outputs": [],
   "source": [
    "# Produce the targets according to our f(x,z) = 2x - 3z + 5 + noise definition.\n",
    "# In this way, we are basically saying: the weights should be 2 and -3, while the bias is 5.\n",
    "generated_targets = 2*xs - 3*zs + 5 + noise\n",
    "np.savez('TF_intro', inputs=generated_inputs, targets=generated_targets)"
   ]
  },
  {
   "cell_type": "code",
   "execution_count": 23,
   "metadata": {
    "collapsed": true
   },
   "outputs": [],
   "source": [
    "input_size = 2\n",
    "output_size = 1"
   ]
  },
  {
   "cell_type": "code",
   "execution_count": 24,
   "metadata": {},
   "outputs": [
    {
     "name": "stdout",
     "output_type": "stream",
     "text": [
      "Tensor(\"Placeholder_2:0\", shape=(?, 2), dtype=float32)\n",
      "Tensor(\"Placeholder_3:0\", shape=(?, 1), dtype=float32)\n"
     ]
    }
   ],
   "source": [
    "inputs = tf.placeholder(tf.float32, [None, input_size])\n",
    "targets = tf.placeholder(tf.float32, [None, output_size])\n",
    "\n",
    "print(inputs)\n",
    "print(targets)"
   ]
  },
  {
   "cell_type": "code",
   "execution_count": 25,
   "metadata": {},
   "outputs": [
    {
     "name": "stdout",
     "output_type": "stream",
     "text": [
      "<tf.Variable 'Variable_2:0' shape=(2, 1) dtype=float32_ref>\n",
      "<tf.Variable 'Variable_3:0' shape=(1,) dtype=float32_ref>\n"
     ]
    }
   ],
   "source": [
    "weights = tf.Variable(tf.random_uniform([input_size, output_size], minval=-0.1, maxval=0.1))\n",
    "biases = tf.Variable(tf.random_uniform([output_size], minval=-0.1, maxval=0.1))\n",
    "\n",
    "print(weights)\n",
    "print(biases)"
   ]
  },
  {
   "cell_type": "code",
   "execution_count": 26,
   "metadata": {},
   "outputs": [
    {
     "name": "stdout",
     "output_type": "stream",
     "text": [
      "Tensor(\"add_1:0\", shape=(?, 1), dtype=float32)\n"
     ]
    }
   ],
   "source": [
    "outputs = tf.matmul(inputs, weights) + biases\n",
    "print(outputs)"
   ]
  },
  {
   "cell_type": "code",
   "execution_count": 27,
   "metadata": {},
   "outputs": [
    {
     "name": "stdout",
     "output_type": "stream",
     "text": [
      "Tensor(\"truediv_1:0\", shape=(), dtype=float32)\n"
     ]
    }
   ],
   "source": [
    "mean_loss = tf.losses.mean_squared_error(labels=targets, predictions=outputs) / 2.\n",
    "print(mean_loss)"
   ]
  },
  {
   "cell_type": "code",
   "execution_count": 28,
   "metadata": {},
   "outputs": [
    {
     "name": "stdout",
     "output_type": "stream",
     "text": [
      "name: \"GradientDescent_1\"\n",
      "op: \"NoOp\"\n",
      "input: \"^GradientDescent_1/update_Variable_2/ApplyGradientDescent\"\n",
      "input: \"^GradientDescent_1/update_Variable_3/ApplyGradientDescent\"\n",
      "\n"
     ]
    }
   ],
   "source": [
    "optimize = tf.train.GradientDescentOptimizer(learning_rate=0.05).minimize(mean_loss)\n",
    "print(optimize)"
   ]
  },
  {
   "cell_type": "code",
   "execution_count": 29,
   "metadata": {
    "collapsed": true
   },
   "outputs": [],
   "source": [
    "sess = tf.InteractiveSession()\n",
    "initializer = tf.global_variables_initializer()\n",
    "sess.run(initializer)"
   ]
  },
  {
   "cell_type": "code",
   "execution_count": 30,
   "metadata": {
    "collapsed": true
   },
   "outputs": [],
   "source": [
    "training_data = np.load('TF_intro.npz')"
   ]
  },
  {
   "cell_type": "code",
   "execution_count": 31,
   "metadata": {},
   "outputs": [
    {
     "name": "stdout",
     "output_type": "stream",
     "text": [
      "214.18\n",
      "93.0686\n",
      "43.8983\n",
      "23.4073\n",
      "14.4908\n",
      "10.3275\n",
      "8.16663\n",
      "6.88304\n",
      "6.00781\n",
      "5.34049\n",
      "4.79229\n",
      "4.3218\n",
      "3.90825\n",
      "3.54012\n",
      "3.21023\n",
      "2.91357\n",
      "2.6463\n",
      "2.40527\n",
      "2.18777\n",
      "1.99146\n",
      "1.81425\n",
      "1.65425\n",
      "1.5098\n",
      "1.37937\n",
      "1.26161\n",
      "1.15528\n",
      "1.05927\n",
      "0.972582\n",
      "0.894309\n",
      "0.823635\n",
      "0.759822\n",
      "0.702203\n",
      "0.650178\n",
      "0.603203\n",
      "0.560788\n",
      "0.52249\n",
      "0.487911\n",
      "0.456687\n",
      "0.428495\n",
      "0.40304\n",
      "0.380055\n",
      "0.359303\n",
      "0.340564\n",
      "0.323644\n",
      "0.308367\n",
      "0.294573\n",
      "0.282118\n",
      "0.270872\n",
      "0.260718\n",
      "0.251549\n",
      "0.24327\n",
      "0.235796\n",
      "0.229046\n",
      "0.222952\n",
      "0.217449\n",
      "0.212481\n",
      "0.207995\n",
      "0.203944\n",
      "0.200287\n",
      "0.196985\n",
      "0.194003\n",
      "0.19131\n",
      "0.18888\n",
      "0.186685\n",
      "0.184703\n",
      "0.182913\n",
      "0.181297\n",
      "0.179839\n",
      "0.178521\n",
      "0.177332\n",
      "0.176258\n",
      "0.175288\n",
      "0.174412\n",
      "0.173622\n",
      "0.172908\n",
      "0.172263\n",
      "0.171681\n",
      "0.171156\n",
      "0.170682\n",
      "0.170253\n",
      "0.169866\n",
      "0.169517\n",
      "0.169202\n",
      "0.168917\n",
      "0.16866\n",
      "0.168428\n",
      "0.168218\n",
      "0.168029\n",
      "0.167858\n",
      "0.167703\n",
      "0.167564\n",
      "0.167438\n",
      "0.167325\n",
      "0.167222\n",
      "0.16713\n",
      "0.167046\n",
      "0.16697\n",
      "0.166902\n",
      "0.166841\n",
      "0.166785\n"
     ]
    }
   ],
   "source": [
    "for i in range(100):\n",
    "    _, curr_loss = sess.run([optimize, mean_loss], \n",
    "        feed_dict={inputs: training_data['inputs'], targets: training_data['targets']})\n",
    "    \n",
    "    print(curr_loss)"
   ]
  },
  {
   "cell_type": "code",
   "execution_count": 32,
   "metadata": {
    "collapsed": true
   },
   "outputs": [],
   "source": [
    "out = sess.run([outputs], \n",
    "               feed_dict={inputs: training_data['inputs']})"
   ]
  },
  {
   "cell_type": "code",
   "execution_count": 33,
   "metadata": {},
   "outputs": [
    {
     "data": {
      "image/png": "[encoded data removed]",
      "text/plain": [
       "<matplotlib.figure.Figure at 0x272e613e6d8>"
      ]
     },
     "metadata": {},
     "output_type": "display_data"
    }
   ],
   "source": [
    "plt.plot(np.squeeze(out), np.squeeze(training_data['targets']))\n",
    "plt.xlabel('outputs')\n",
    "plt.ylabel('targets')\n",
    "plt.show()"
   ]
  },
  {
   "cell_type": "code",
   "execution_count": 34,
   "metadata": {},
   "outputs": [
    {
     "name": "stdout",
     "output_type": "stream",
     "text": [
      "[array([[ 2.00320244],\n",
      "       [-3.00018477]], dtype=float32)]\n",
      "[array([ 4.98046255], dtype=float32)]\n"
     ]
    }
   ],
   "source": [
    "w = sess.run([weights], \n",
    "               feed_dict={inputs: training_data['inputs']})\n",
    "               \n",
    "b = sess.run([biases], \n",
    "               feed_dict={inputs: training_data['inputs']})\n",
    "\n",
    "print (w)\n",
    "print (b)"
   ]
  },
  {
   "cell_type": "code",
   "execution_count": null,
   "metadata": {
    "collapsed": true
   },
   "outputs": [],
   "source": []
  }
 ],
 "metadata": {
  "kernelspec": {
   "display_name": "Python 3",
   "language": "python",
   "name": "python3"
  },
  "language_info": {
   "codemirror_mode": {
    "name": "ipython",
    "version": 3
   },
   "file_extension": ".py",
   "mimetype": "text/x-python",
   "name": "python",
   "nbconvert_exporter": "python",
   "pygments_lexer": "ipython3",
   "version": "3.6.2"
  }
 },
 "nbformat": 4,
 "nbformat_minor": 2
}
