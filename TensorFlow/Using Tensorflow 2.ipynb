{
 "cells": [
  {
   "cell_type": "code",
   "execution_count": 35,
   "metadata": {},
   "outputs": [],
   "source": [
    "import pandas as pd\n",
    "import numpy as np\n",
    "import tensorflow as tf\n",
    "import matplotlib.pyplot as plt\n",
    "import seaborn as sns\n",
    "\n",
    "from tensorflow.examples.tutorials.mnist import input_data\n",
    "\n",
    "%matplotlib inline"
   ]
  },
  {
   "cell_type": "code",
   "execution_count": 75,
   "metadata": {},
   "outputs": [
    {
     "name": "stdout",
     "output_type": "stream",
     "text": [
      "Extracting MNIST_data/train-images-idx3-ubyte.gz\n",
      "Extracting MNIST_data/train-labels-idx1-ubyte.gz\n",
      "Extracting MNIST_data/t10k-images-idx3-ubyte.gz\n",
      "Extracting MNIST_data/t10k-labels-idx1-ubyte.gz\n"
     ]
    }
   ],
   "source": [
    "mnist_data = input_data.read_data_sets(\"MNIST_data/\", one_hot=True)"
   ]
  },
  {
   "cell_type": "code",
   "execution_count": 76,
   "metadata": {},
   "outputs": [
    {
     "data": {
      "text/plain": [
       "<function Datasets.index>"
      ]
     },
     "execution_count": 76,
     "metadata": {},
     "output_type": "execute_result"
    }
   ],
   "source": [
    "mnist_data.count\n",
    "mnist_data.index"
   ]
  },
  {
   "cell_type": "code",
   "execution_count": 239,
   "metadata": {},
   "outputs": [],
   "source": [
    "input_size = 784\n",
    "output_size = 10\n",
    "hidden_layer_size = 200\n",
    "\n",
    "tf.reset_default_graph() # This is need to reset to any memorized variables"
   ]
  },
  {
   "cell_type": "code",
   "execution_count": 240,
   "metadata": {
    "collapsed": true
   },
   "outputs": [],
   "source": [
    "inputs = tf.placeholder(tf.float32, [None, input_size], name='inputs')\n",
    "targets = tf.placeholder(tf.float32, [None, output_size], name='targets')"
   ]
  },
  {
   "cell_type": "code",
   "execution_count": 241,
   "metadata": {},
   "outputs": [
    {
     "name": "stdout",
     "output_type": "stream",
     "text": [
      "inputs:0\n",
      "targets:0\n"
     ]
    }
   ],
   "source": [
    "print(inputs.name)\n",
    "print(targets.name)"
   ]
  },
  {
   "cell_type": "code",
   "execution_count": 242,
   "metadata": {},
   "outputs": [],
   "source": [
    "weights_1 = tf.get_variable('weights_1', [input_size, hidden_layer_size])\n",
    "biases_1 = tf.get_variable('biases_1', [hidden_layer_size])\n",
    "\n",
    "outputs_1 = tf.nn.sigmoid(tf.matmul(inputs, weights_1) + biases_1)"
   ]
  },
  {
   "cell_type": "code",
   "execution_count": 243,
   "metadata": {},
   "outputs": [],
   "source": [
    "weights_2 = tf.get_variable('weights_2', [hidden_layer_size, hidden_layer_size])\n",
    "biases_2 = tf.get_variable('biases_2', [hidden_layer_size])\n",
    "\n",
    "outputs_2 = tf.nn.sigmoid(tf.matmul(outputs_1, weights_2) + biases_2)"
   ]
  },
  {
   "cell_type": "code",
   "execution_count": 244,
   "metadata": {},
   "outputs": [],
   "source": [
    "weights_3 = tf.get_variable('weights_3', [hidden_layer_size, hidden_layer_size])\n",
    "biases_3 = tf.get_variable('biases_3', [hidden_layer_size])\n",
    "\n",
    "outputs_3 = tf.nn.sigmoid(tf.matmul(outputs_2, weights_3) + biases_3)"
   ]
  },
  {
   "cell_type": "code",
   "execution_count": 245,
   "metadata": {
    "collapsed": true
   },
   "outputs": [],
   "source": [
    "weights_4 = tf.get_variable('weights_4', [hidden_layer_size, hidden_layer_size])\n",
    "biases_4 = tf.get_variable('biases_4', [hidden_layer_size])\n",
    "\n",
    "outputs_4 = tf.nn.sigmoid(tf.matmul(outputs_3, weights_4) + biases_4)"
   ]
  },
  {
   "cell_type": "code",
   "execution_count": 246,
   "metadata": {},
   "outputs": [],
   "source": [
    "weights_5 = tf.get_variable('weights_5', [hidden_layer_size, output_size])\n",
    "biases_5 = tf.get_variable('biases_5', [output_size])\n",
    "\n",
    "outputs = tf.matmul(outputs_4, weights_5) + biases_5"
   ]
  },
  {
   "cell_type": "code",
   "execution_count": 247,
   "metadata": {
    "collapsed": true
   },
   "outputs": [],
   "source": [
    "loss = tf.nn.softmax_cross_entropy_with_logits(logits=outputs, labels=targets)\n",
    "mean_loss = tf.reduce_mean(loss)"
   ]
  },
  {
   "cell_type": "code",
   "execution_count": 248,
   "metadata": {
    "collapsed": true
   },
   "outputs": [],
   "source": [
    "optimize = tf.train.AdamOptimizer(learning_rate=0.02).minimize(mean_loss)"
   ]
  },
  {
   "cell_type": "code",
   "execution_count": 249,
   "metadata": {
    "collapsed": true
   },
   "outputs": [],
   "source": [
    "out_equals_target = tf.equal(tf.argmax(outputs, 1), tf.argmax(targets, 1))"
   ]
  },
  {
   "cell_type": "code",
   "execution_count": 250,
   "metadata": {},
   "outputs": [],
   "source": [
    "accuracy = tf.reduce_mean(tf.cast(out_equals_target, tf.float32))"
   ]
  },
  {
   "cell_type": "code",
   "execution_count": 251,
   "metadata": {},
   "outputs": [],
   "source": [
    "sess = tf.InteractiveSession()\n",
    "initializer = tf.global_variables_initializer()\n",
    "sess.run(initializer)"
   ]
  },
  {
   "cell_type": "code",
   "execution_count": 252,
   "metadata": {
    "collapsed": true
   },
   "outputs": [],
   "source": [
    "batch_size = 1\n",
    "batch_numbers = mnist_data.train._num_examples // batch_size\n",
    "max_epochs = 15\n",
    "prev_validation_loss = 9999999."
   ]
  },
  {
   "cell_type": "code",
   "execution_count": null,
   "metadata": {},
   "outputs": [
    {
     "name": "stdout",
     "output_type": "stream",
     "text": [
      "Epoch 1\n",
      "Training Loss 2.332\n",
      "Validation Loss 2.345\n",
      "Validation accuracy 10.020 percent\n",
      "\n",
      "\n",
      "\n",
      "Epoch 2\n",
      "Training Loss 2.330\n",
      "Validation Loss 2.327\n",
      "Validation accuracy 9.900 percent\n",
      "\n",
      "\n",
      "\n"
     ]
    }
   ],
   "source": [
    "for epoch_counter in range(max_epochs):\n",
    "    curr_epoch_loss = 0.0\n",
    "    for batch_counter in range(batch_numbers):\n",
    "        input_batch, target_batch = mnist_data.train.next_batch(batch_size) # Here we get in dataset the batch of size X with inputs and targets\n",
    "        \n",
    "        _, batch_loss = sess.run([optimize, mean_loss],\n",
    "                                feed_dict={inputs: input_batch, targets: target_batch})\n",
    "        \n",
    "        curr_epoch_loss += batch_loss # Sum the errors per batch\n",
    "    \n",
    "    curr_epoch_loss /= batch_numbers # Mean loss for the batchs\n",
    "    \n",
    "    #Validation part\n",
    "    input_batch, target_batch = mnist_data.validation.next_batch(mnist_data.validation._num_examples)\n",
    "    validation_loss, validation_accuracy = sess.run([mean_loss, accuracy], \n",
    "                                                   feed_dict={inputs: input_batch, targets: target_batch})\n",
    "    \n",
    "    print(\"Epoch \" + str(epoch_counter + 1))\n",
    "    print(\"Training Loss %.3f\" % curr_epoch_loss)\n",
    "    print(\"Validation Loss %.3f\" % validation_loss)\n",
    "    print(\"Validation accuracy %.3f percent\" % (validation_accuracy * 100))\n",
    "    print(\"\\n\\n\")\n",
    "    \n",
    "    if validation_loss > prev_validation_loss:\n",
    "        break\n",
    "        \n",
    "    prev_validation_loss = validation_loss\n",
    "    \n",
    "print(\"End of Training\")"
   ]
  },
  {
   "cell_type": "code",
   "execution_count": null,
   "metadata": {},
   "outputs": [],
   "source": [
    "#Test Model\n",
    "input_batch, target_batch = mnist_data.test.next_batch(mnist_data.test._num_examples)\n",
    "test_accuracy = sess.run([accuracy], feed_dict={inputs: input_batch, targets: target_batch})\n",
    "\n",
    "print(test_accuracy)\n",
    "\n",
    "print(\"The accuracy from your test model is %.2f\" % (test_accuracy[0] * 100))"
   ]
  },
  {
   "cell_type": "code",
   "execution_count": null,
   "metadata": {},
   "outputs": [],
   "source": [
    "print(tf.get_default_graph().as_graph_def())"
   ]
  },
  {
   "cell_type": "code",
   "execution_count": null,
   "metadata": {
    "collapsed": true
   },
   "outputs": [],
   "source": []
  }
 ],
 "metadata": {
  "kernelspec": {
   "display_name": "Python 3",
   "language": "python",
   "name": "python3"
  },
  "language_info": {
   "codemirror_mode": {
    "name": "ipython",
    "version": 3
   },
   "file_extension": ".py",
   "mimetype": "text/x-python",
   "name": "python",
   "nbconvert_exporter": "python",
   "pygments_lexer": "ipython3",
   "version": "3.6.2"
  }
 },
 "nbformat": 4,
 "nbformat_minor": 2
}
